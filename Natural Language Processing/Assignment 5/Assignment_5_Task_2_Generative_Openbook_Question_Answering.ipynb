{
 "cells": [
  {
   "cell_type": "markdown",
   "metadata": {},
   "source": [
    "## TRAIN SET"
   ]
  },
  {
   "cell_type": "code",
   "execution_count": null,
   "metadata": {},
   "outputs": [],
   "source": [
    "num_questions = [len(dataset['test'][i]['qas']['question']) for i in range(len(dataset['test']))]\n",
    "print('Number of questions in test set: ', sum(num_questions)) \n",
    "plt.hist(num_questions, bins=12, range=(0.5, 12.5))\n",
    "plt.title('Number of questions per article')\n",
    "plt.xlabel('Number of questions')\n",
    "plt.ylabel('Number of article')\n",
    "plt.show()\n"
   ]
  },
  {
   "cell_type": "code",
   "execution_count": null,
   "metadata": {},
   "outputs": [],
   "source": [
    "a = [\"a\", \"b\", \"c\", \"d\", \"e\", \"f\", \"g\", \"h\", \"i\", \"j\"]\n",
    "random.shuffle(a)\n",
    "print(a)"
   ]
  },
  {
   "cell_type": "code",
   "execution_count": null,
   "metadata": {},
   "outputs": [],
   "source": [
    "train_dataset = datasets.Dataset.from_dict(train)\n",
    "test_dataset = datasets.Dataset.from_dict(test)\n",
    "\n",
    "flattened_dataset = datasets.DatasetDict({'train': train_dataset, 'test': test_dataset})\n",
    "\n",
    "assert len(train_abstracts) == len(train_questions) == len(train_answers)\n",
    "assert len(test_abstracts) == len(test_questions) == len(test_answers)\n",
    "\n",
    "display(flattened_dataset['train'][0])"
   ]
  },
  {
   "cell_type": "code",
   "execution_count": null,
   "metadata": {},
   "outputs": [],
   "source": [
    "# randomly choose 10% of the training data as validation data from flattened dataset\n",
    "temp = flattened_dataset[\"train\"].train_test_split(test_size=0.1, shuffle=True, seed=SEED)\n",
    "flattened_dataset[\"train\"] = temp[\"train\"]\n",
    "flattened_dataset[\"val\"] = temp[\"test\"]\n",
    "\n",
    "display(flattened_dataset)"
   ]
  },
  {
   "cell_type": "code",
   "execution_count": null,
   "metadata": {},
   "outputs": [],
   "source": [
    "encoded_ds = flattened_dataset.map(\n",
    "    preprocess_function,\n",
    "    batched=True,\n",
    "    fn_kwargs={\"max_qc_len\": 128, \"max_ans_len\": 32},\n",
    ")"
   ]
  },
  {
   "cell_type": "code",
   "execution_count": null,
   "metadata": {},
   "outputs": [],
   "source": [
    "# load google/t5-efficient-mini\n",
    "from transformers import T5ForConditionalGeneration\n",
    "model = T5ForConditionalGeneration.from_pretrained(\"google/t5-efficient-mini\")"
   ]
  },
  {
   "cell_type": "code",
   "execution_count": null,
   "metadata": {},
   "outputs": [],
   "source": [
    "# start wandb run\n",
    "wandb.init()\n",
    "\n",
    "trainer.train()\n",
    "\n",
    "trainer.evaluate()\n",
    "\n",
    "# end wandb run\n",
    "wandb.finish()"
   ]
  },
  {
   "cell_type": "code",
   "execution_count": null,
   "metadata": {},
   "outputs": [],
   "source": [
    "# run inference on a sample from the test split of flattened dataset\n",
    "sample = flattened_dataset['test'][9]\n",
    "\n",
    "# preprocess the sample\n",
    "preprocessed_sample = preprocess_function(sample, max_qc_len=128, max_ans_len=32)\n",
    "\n",
    "# move the sample to the device (GPU, if available)\n",
    "device = torch.device(\"cuda\" if torch.cuda.is_available() else \"cpu\")\n",
    "\n",
    "# run inference\n",
    "# model_base = T5ForConditionalGeneration.from_pretrained(\"google/t5-efficient-mini\")\n",
    "# model_base.to(device)\n",
    "generated_answer_ids = model.generate(\n",
    "    input_ids=torch.tensor([preprocessed_sample['input_ids']]).to(device),\n",
    "    attention_mask=torch.tensor([preprocessed_sample['attention_mask']]).to(device),\n",
    ")\n",
    "\n",
    "# decode the generated answer ids\n",
    "generated_answer = tokenizer.decode(generated_answer_ids[0], skip_special_tokens=True)\n",
    "\n",
    "print(\"Question:\", sample['question'])\n",
    "print(\"Context:\", sample['abstract'])\n",
    "print(\"Generated Answer:\", generated_answer)\n",
    "print(\"Actual Answer:\", sample['answer'])"
   ]
  }
 ],
 "metadata": {
  "kernelspec": {
   "display_name": "umlia23",
   "language": "python",
   "name": "python3"
  },
  "language_info": {
   "codemirror_mode": {
    "name": "ipython",
    "version": 3
   },
   "file_extension": ".py",
   "mimetype": "text/x-python",
   "name": "python",
   "nbconvert_exporter": "python",
   "pygments_lexer": "ipython3",
   "version": "3.9.16"
  },
  "orig_nbformat": 4
 },
 "nbformat": 4,
 "nbformat_minor": 2
}
