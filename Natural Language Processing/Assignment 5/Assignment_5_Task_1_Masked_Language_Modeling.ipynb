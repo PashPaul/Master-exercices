{
 "cells": [
  {
   "cell_type": "code",
   "execution_count": 1,
   "metadata": {},
   "outputs": [
    {
     "name": "stdout",
     "output_type": "stream",
     "text": [
      "Wed Jul 12 10:56:24 2023       \n",
      "+---------------------------------------------------------------------------------------+\n",
      "| NVIDIA-SMI 530.46                 Driver Version: 531.61       CUDA Version: 12.1     |\n",
      "|-----------------------------------------+----------------------+----------------------+\n",
      "| GPU  Name                  Persistence-M| Bus-Id        Disp.A | Volatile Uncorr. ECC |\n",
      "| Fan  Temp  Perf            Pwr:Usage/Cap|         Memory-Usage | GPU-Util  Compute M. |\n",
      "|                                         |                      |               MIG M. |\n",
      "|=========================================+======================+======================|\n",
      "|   0  NVIDIA GeForce RTX 4090         On | 00000000:01:00.0  On |                  Off |\n",
      "|  0%   44C    P5               23W / 450W|    935MiB / 24564MiB |      5%      Default |\n",
      "|                                         |                      |                  N/A |\n",
      "+-----------------------------------------+----------------------+----------------------+\n",
      "                                                                                         \n",
      "+---------------------------------------------------------------------------------------+\n",
      "| Processes:                                                                            |\n",
      "|  GPU   GI   CI        PID   Type   Process name                            GPU Memory |\n",
      "|        ID   ID                                                             Usage      |\n",
      "|=======================================================================================|\n",
      "|    0   N/A  N/A        22      G   /Xwayland                                 N/A      |\n",
      "+---------------------------------------------------------------------------------------+\n"
     ]
    }
   ],
   "source": [
    "!nvidia-smi"
   ]
  },
  {
   "cell_type": "code",
   "execution_count": null,
   "metadata": {},
   "outputs": [],
   "source": [
    "SEED = 42\n",
    "dataset = load_dataset(\"ag_news\")\n",
    "dataset = dataset.shuffle(SEED)\n",
    "\n",
    "temp = dataset[\"train\"].train_test_split(test_size=0.1, shuffle=True, seed=SEED)\n",
    "dataset[\"train\"] = temp[\"train\"]\n",
    "dataset[\"val\"] = temp[\"test\"]"
   ]
  },
  {
   "cell_type": "code",
   "execution_count": null,
   "metadata": {},
   "outputs": [],
   "source": [
    "MAX_SEQ_LENGTH = 256\n",
    "\n",
    "tokenizer = AutoTokenizer.from_pretrained(\"distilroberta-base\")\n",
    "\n",
    "# TODO: define a preprocessing function to tokenize a sample\n",
    "def preprocess_function(sample: Dict[str, Any], seq_len: int):\n",
    "    \"\"\"\n",
    "    Function applied to all the examples in the Dataset (individually or in batches). \n",
    "    It accepts as input a sample as a dictionary and return a new dictionary with the BERT tokens for that sample\n",
    "\n",
    "    Args:\n",
    "        sample Dict[str, Any]:\n",
    "            Dictionary of sample\n",
    "            \n",
    "    Returns:\n",
    "        Dict: Dictionary of tokenized sample in the following style:\n",
    "        {\n",
    "          \"input_ids\": list[int] # token ids\n",
    "          \"attention_mask\": list[int] # Mask for self-attention (padding tokens are ignored).\n",
    "        }\n",
    "        Hint: if your are using the Huggingface tokenizer implementation, this is the default output format but check it yourself to be sure!\n",
    "    \"\"\"\n",
    "    # set pad to eos\n",
    "    # tokenizer.pad_token = tokenizer.eos_token\n",
    "    Dict = tokenizer(sample[\"text\"], truncation=True, padding=\"max_length\", max_length=seq_len)\n",
    "    return Dict\n",
    "\n",
    "\n",
    "encoded_ds = dataset.map(\n",
    "    preprocess_function, batched=True, fn_kwargs={\"seq_len\": MAX_SEQ_LENGTH}, remove_columns=[\"label\"]\n",
    ")"
   ]
  },
  {
   "cell_type": "code",
   "execution_count": null,
   "metadata": {},
   "outputs": [],
   "source": [
    "from datasets import load_dataset\n",
    "from transformers import AutoTokenizer, AutoModelForMaskedLM  # hint for steps 2 and 5\n",
    "from transformers import DataCollatorForLanguageModeling  # hint for step 4\n",
    "from transformers import TrainingArguments, Trainer\n",
    "from typing import Dict, Any"
   ]
  },
  {
   "cell_type": "code",
   "execution_count": null,
   "metadata": {},
   "outputs": [],
   "source": [
    "# get summary of the dataset\n",
    "# display(encoded_ds[\"train\"][0])"
   ]
  },
  {
   "cell_type": "code",
   "execution_count": null,
   "metadata": {},
   "outputs": [],
   "source": [
    "MLM_PROBABILITY = 0.1\n",
    "\n",
    "collator = DataCollatorForLanguageModeling(tokenizer=tokenizer, mlm_probability=MLM_PROBABILITY)"
   ]
  },
  {
   "cell_type": "code",
   "execution_count": null,
   "metadata": {},
   "outputs": [],
   "source": [
    "# use the collator on the dataset\n",
    "# batch = collator(encoded_ds[\"train\"][\"input_ids\"])\n",
    "# print(batch)"
   ]
  },
  {
   "cell_type": "code",
   "execution_count": null,
   "metadata": {},
   "outputs": [],
   "source": [
    "from transformers import AutoConfig\n",
    "DROPOUT_PROBABILITY = 0.15\n",
    "\n",
    "model = AutoModelForMaskedLM.from_pretrained(\"distilroberta-base\")\n",
    "\n",
    "# change dropout rate of the output layer in each of the encoder layers\n",
    "\n",
    "for i in range (0, 6):\n",
    "    model.roberta.encoder.layer[i].output.dropout.p = DROPOUT_PROBABILITY\n",
    "print(model)"
   ]
  },
  {
   "cell_type": "code",
   "execution_count": null,
   "metadata": {},
   "outputs": [],
   "source": [
    "# get loss function of model\n"
   ]
  },
  {
   "cell_type": "code",
   "execution_count": null,
   "metadata": {},
   "outputs": [],
   "source": [
    "trainingArgs = TrainingArguments(\n",
    "    per_device_train_batch_size=32,\n",
    "    per_device_eval_batch_size=32,\n",
    "    learning_rate=5e-5,\n",
    "    weight_decay=0.001,\n",
    "    # prediction_loss_only=True,\n",
    "    lr_scheduler_type=\"cosine\",\n",
    "    output_dir=\"./results_scratch\",\n",
    "    evaluation_strategy=\"epoch\",\n",
    "    save_strategy=\"epoch\",\n",
    "    load_best_model_at_end=True,\n",
    "    seed=43,\n",
    "    num_train_epochs=5,\n",
    ")\n",
    "\n",
    "trainer = Trainer(\n",
    "    model=model,\n",
    "    args=trainingArgs,\n",
    "    train_dataset=encoded_ds[\"train\"],\n",
    "    eval_dataset=encoded_ds[\"val\"],\n",
    "    data_collator=collator,\n",
    ")"
   ]
  },
  {
   "cell_type": "code",
   "execution_count": null,
   "metadata": {},
   "outputs": [],
   "source": [
    "trainer.train()\n",
    "\n",
    "trainer.evaluate()"
   ]
  },
  {
   "cell_type": "code",
   "execution_count": null,
   "metadata": {},
   "outputs": [],
   "source": [
    "# calculate perplexity on validation and test splits\n",
    "# Perplexity is the exponentiation of the cross-entropy loss\n",
    "\n",
    "from math import exp\n",
    "\n",
    "test_loss = trainer.evaluate(eval_dataset=encoded_ds[\"test\"])[\"eval_loss\"]\n",
    "test_perplexity = exp(test_loss)\n",
    "print(f\"Test Perplexity: {test_perplexity}\")\n",
    "\n",
    "val_loss = trainer.evaluate()[\"eval_loss\"]\n",
    "val_perplexity = exp(val_loss)\n",
    "print(f\"Validation Perplexity: {val_perplexity}\")"
   ]
  },
  {
   "cell_type": "code",
   "execution_count": null,
   "metadata": {},
   "outputs": [],
   "source": [
    "import torch\n",
    "#### Inference\n",
    "text = \"E-mail scam targets police chief Wiltshire Police warns about <mask> after its fraud squad chief was targeted.\"\n",
    "\n",
    "# compute top 5 most probable tokens for the masked token\n",
    "device = torch.device('cuda' if torch.cuda.is_available() else 'cpu')\n",
    "\n",
    "input_ids = tokenizer.encode(text, return_tensors='pt').to(device)\n",
    "mask_token_index = torch.where(input_ids == tokenizer.mask_token_id)[1]\n",
    "\n",
    "outputs = model(input_ids)\n",
    "mask_logits = outputs.logits[0, mask_token_index, :]\n",
    "top_5_tokens = torch.topk(mask_logits, 5, dim=1).indices[0].tolist()\n",
    "\n",
    "for token in top_5_tokens:\n",
    "    print(tokenizer.decode([token]))"
   ]
  }
 ],
 "metadata": {
  "kernelspec": {
   "display_name": "umlia23",
   "language": "python",
   "name": "python3"
  },
  "language_info": {
   "codemirror_mode": {
    "name": "ipython",
    "version": 3
   },
   "file_extension": ".py",
   "mimetype": "text/x-python",
   "name": "python",
   "nbconvert_exporter": "python",
   "pygments_lexer": "ipython3",
   "version": "3.9.16"
  },
  "orig_nbformat": 4
 },
 "nbformat": 4,
 "nbformat_minor": 2
}
