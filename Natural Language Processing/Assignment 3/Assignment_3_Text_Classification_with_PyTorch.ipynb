{
  "cells": [
    {
      "cell_type": "markdown",
      "metadata": {
        "id": "gSb3LpeChepX"
      },
      "source": [
        "## Exercise \"Natural Language Processing\" -- Text Classification with PyTorch\n",
        "\n",
        "\n",
        "For this course, save a COPY to your Google Drive for the tutorial (File -> Save copy in Drive). Then complete the tasks in your saved copy. If you're done, submit the notebook via moodle by sharing a link with the appropriate permissions (preferred, but please do not make changes after the deadline) or by submitting the downloaded `.ipynb` file.\n",
        "\n",
        "This is an individual assignment, i.e., submit your solutions individually.\n",
        "\n",
        "This assignment is **mandatory for participation in the exam**. You are required to obtain at least 50% of the total points in this assignment to become eligible for participating in the final exam.\n",
        "\n",
        "**This assignment will take some time**, particularly if you do not have prior experience with PyTorch. Do not just start the day before the deadline. There are 8 individual tasks, however most of them will be just a few lines of code.\n",
        "\n",
        "**Due date: 25.05.2023, 9:15 a.m.(CEST)**\n"
      ]
    },
    {
      "cell_type": "markdown",
      "metadata": {
        "id": "UWDJ1QC0Oqcn"
      },
      "source": [
        "You will need to install the following dependency and **restart** the Colab runtime (as of April '23)."
      ]
    },
    {
      "cell_type": "code",
      "execution_count": 1,
      "metadata": {
        "id": "CZcKsUtpv333"
      },
      "outputs": [],
      "source": [
        "! pip install portalocker>=2.0.0"
      ]
    },
    {
      "cell_type": "markdown",
      "metadata": {
        "id": "YvkUs-TQPBeq"
      },
      "source": [
        "In this assignment, we'll build and train a Neural Network from scratch for Text Classification using PyTorch (`import torch`). We will use the `AG_NEWS` dataset to train a model that can classifiy news articles by topic.\n",
        "\n",
        "We will complete the following steps in this notebook:\n",
        "- Define a tokenizer and preprocessing pipeline for our dataset\n",
        "- Develop a Neural Network architecture using **word embeddings** (in contrast to the document-level bag-of-words emebddings from the last assignments)\n",
        "- Define a PyTorch training loop and relevant hyperparameters\n",
        "- Have fun!\n",
        "\n",
        "\n"
      ]
    },
    {
      "cell_type": "code",
      "execution_count": 2,
      "metadata": {
        "id": "iha4BPZW02bE"
      },
      "outputs": [],
      "source": [
        "# Some imports\n",
        "import torch\n",
        "import torchtext"
      ]
    },
    {
      "cell_type": "markdown",
      "metadata": {
        "id": "TGpcXRNK8d_K"
      },
      "source": [
        "## Data preprocessing"
      ]
    },
    {
      "cell_type": "markdown",
      "metadata": {
        "id": "yCDHKHpBEYu9"
      },
      "source": [
        "Building your data preprocessing pipeline is a crucial part of working with text! This contains:\n",
        "- loading the dataset and constructing train, dev and test splits\n",
        "- building a tokenizer and vocabulary (all tokens that occur in the train split)\n",
        "- pre-tokenizing, truncating or padding the data to prepare for training"
      ]
    },
    {
      "cell_type": "markdown",
      "metadata": {
        "id": "zVYwkCxV7eiH"
      },
      "source": [
        "**Task 1 (2 points)**: Split the `AG_NEWS` dataset into train, dev and test splits. The dataset already comes with pre-defined train and test splits. Use a random sample of 10% of samples from the train split to construct our dev split. Use a fixed random seed of `42` to ensure reproducibility.\n",
        "\n",
        "*Always* split your data in the beginning, before doing any further processing steps on the train split or you might involuntarily leak information.\n",
        "\n",
        "\n",
        "How many unique labels are there? What are the classes?"
      ]
    },
    {
      "cell_type": "code",
      "execution_count": 3,
      "metadata": {
        "colab": {
          "base_uri": "https://localhost:8080/"
        },
        "id": "ijaabJO4Wv__",
        "outputId": "5d18c10d-073b-4b92-dc6a-94e1c0ab8d5f"
      },
      "outputs": [
        {
          "name": "stdout",
          "output_type": "stream",
          "text": [
            "{1, 2, 3, 4}\n"
          ]
        }
      ],
      "source": [
        "from torchtext.datasets import AG_NEWS\n",
        "from torch.utils.data.dataset import random_split # hint\n",
        "from torchtext.data.functional import to_map_style_dataset # hint\n",
        "\n",
        "# TODO: split dataset\n",
        "\n",
        "train_split, dev_split = random_split(to_map_style_dataset(AG_NEWS(split=(\"train\"))), [0.9, 0.1], generator=torch.Generator().manual_seed(42)) # Complete\n",
        "test_split = to_map_style_dataset(AG_NEWS(split=(\"test\")))   # Complete\n",
        "\n",
        "\n",
        "assert len(train_split) == 108000\n",
        "assert len(dev_split) == 12000\n",
        "assert len(test_split) == 7600\n",
        "\n",
        "assert len(train_split[0]) == 2  # Each sample is a tuple of (topic_label, news_text)\n",
        "\n",
        "# If you have set the manual_seed to 42, you always get the sample splits in different runs\n",
        "## In the following, we test if the last sample in train_split is as expected\n",
        "assert train_split[-1][0] == 1\n",
        "assert train_split[-1][1].startswith('Soviet-style Belarus election') == True\n",
        "\n",
        "\n",
        "# TODO: What are unique label ids? How may unique labels exist?\n",
        "# Bonus question: What is the mapping between the label ids and class names? hint: https://github.com/mhjabreel/CharCnn_Keras/blob/master/data/ag_news_csv/classes.txt\n",
        "labels = set()\n",
        "for sample in train_split:\n",
        "    label_id = sample[0]\n",
        "    labels.add(label_id)\n",
        "assert len(labels) == 4\n",
        "print(labels)"
      ]
    },
    {
      "cell_type": "markdown",
      "metadata": {
        "id": "g6ucUW0MYDpm"
      },
      "source": [
        "We will use a basic tokenizer for English from the `torchtext` package. Observe the effects the tokenizer has one a sample input.\n",
        "\n"
      ]
    },
    {
      "cell_type": "code",
      "execution_count": 4,
      "metadata": {
        "colab": {
          "base_uri": "https://localhost:8080/"
        },
        "id": "hYUOJBc6XY4a",
        "outputId": "94ef2daa-c28c-442c-9837-2f50781eb835"
      },
      "outputs": [
        {
          "name": "stdout",
          "output_type": "stream",
          "text": [
            "Hopkins wants piece of Roy Jones NEW YORK - One thing Bernard Hopkins knockout of Oscar De La Hoya hasnt changed for the middleweight champion: he still needs to beat Roy Jones to feel fulfilled.\n",
            "['hopkins', 'wants', 'piece', 'of', 'roy', 'jones', 'new', 'york', '-', 'one', 'thing', 'bernard', 'hopkins', 'knockout', 'of', 'oscar', 'de', 'la', 'hoya', 'hasnt', 'changed', 'for', 'the', 'middleweight', 'champion', 'he', 'still', 'needs', 'to', 'beat', 'roy', 'jones', 'to', 'feel', 'fulfilled', '.']\n"
          ]
        }
      ],
      "source": [
        "tokenizer = torchtext.data.utils.get_tokenizer('basic_english')\n",
        "\n",
        "print(train_split[0][1])\n",
        "print(tokenizer(train_split[0][1])) # (label, text) format in train_split"
      ]
    },
    {
      "cell_type": "markdown",
      "metadata": {
        "id": "fD9x1G36YwDH"
      },
      "source": [
        "**Task 2 (3 points)**\n",
        "- (2 points) Using the tokenizer, build the total *vocabulary* of all tokens occuring in the training split of our AG News dataset. Use `torchtext.vocab.build_vocab_from_iterator` with the added special tokens `[\"<unk>\", \"<pad>\"]` (**important!**).\n",
        "- (1 point) Print the number of tokens in the vocabulary and the tokens that map to IDs `0-4`."
      ]
    },
    {
      "cell_type": "code",
      "execution_count": 5,
      "metadata": {
        "colab": {
          "base_uri": "https://localhost:8080/"
        },
        "id": "vzNlKlgIX5E7",
        "outputId": "041475f8-8537-4fd7-c0e2-3f91691ae910"
      },
      "outputs": [
        {
          "name": "stdout",
          "output_type": "stream",
          "text": [
            "Number of tokens in the vocabulary: 91154\n",
            "Tokens mapped to IDs 0-4:\n",
            "<unk>\n",
            "<pad>\n",
            ".\n",
            "the\n",
            ",\n",
            "Token ID for '<unk>': 0\n"
          ]
        }
      ],
      "source": [
        "from torchtext.vocab import build_vocab_from_iterator # hint\n",
        "\n",
        "def yield_tokens(data_split):\n",
        "    \"\"\"This might be useful\"\"\"\n",
        "    for _, text in data_split:\n",
        "        yield tokenizer(text)\n",
        "\n",
        "def get_vocab(split):\n",
        "  # TODO: build the vocab and return it\n",
        "  vocab = build_vocab_from_iterator(yield_tokens(split), specials=[\"<unk>\", \"<pad>\"])\n",
        "  return vocab\n",
        "\n",
        "vocab = get_vocab(train_split)\n",
        "vocab.set_default_index(vocab[\"<unk>\"]) # To handle out of vocabulary cases: if token not in vocabulary, return <unk>\n",
        "assert len(vocab) == 91154\n",
        "print(\"Number of tokens in the vocabulary:\", len(vocab))\n",
        "print(\"Tokens mapped to IDs 0-4:\")\n",
        "for token_id in range(5):\n",
        "    print(vocab.get_itos()[token_id])\n",
        "\n",
        "# Bonus question: What is the token id/indice for the special token '<unk>'?\n",
        "## Hint: torchtext.vocab.get_stoi() is helful for this!\n",
        "unk_token_id = vocab.get_stoi()[\"<unk>\"]\n",
        "print(\"Token ID for '<unk>':\", unk_token_id)"
      ]
    },
    {
      "cell_type": "markdown",
      "metadata": {
        "id": "51zEEdR4Z9h5"
      },
      "source": [
        "**Task 3 (3 points)**: Complete the `process_text` function. The function should:\n",
        "- tokenize the `text` with the given `tokenizer` (expected output: list of strings)\n",
        "- (1 point) truncate the result to a maximum of `max_sequence_length` tokens, if longer\n",
        "- (1 point) pad the result to `max_sequence_length`  using the `<pad>` token (1 point)\n",
        "- (1 point) convert all tokens into *token IDs* using the `vocab` (expected output: list of integers)\n",
        "\n",
        "\n",
        "We'll use this fucntion to prepapre our data to be fed into the GPU. By padding and truncating, we ensure every sample in the training set to be the same length, which allows us to do efficient batched training. We convert to IDs because we only need the IDs of tokens to retrieve their corresponding embedding during training."
      ]
    },
    {
      "cell_type": "code",
      "execution_count": 6,
      "metadata": {
        "id": "7NFR8HN8YQ72"
      },
      "outputs": [],
      "source": [
        "def process_text(text, tokenizer, vocab, max_sequence_length=256, pad_token=\"<pad>\"):\n",
        "  # TODO: complete function\n",
        "\n",
        "  tokens = tokenizer(text)  # Complete\n",
        "\n",
        "  length = len(tokens)\n",
        "  if length > max_sequence_length:\n",
        "    # Complete\n",
        "    tokens = tokens[:max_sequence_length]\n",
        "\n",
        "  elif length < max_sequence_length:\n",
        "    # Complete\n",
        "    tokens.extend([pad_token] * (max_sequence_length - len(tokens)))\n",
        "\n",
        "\n",
        "  assert len(tokens) == max_sequence_length\n",
        "\n",
        "  token_ids = [vocab[token] for token in tokens] # Complete\n",
        "\n",
        "  return token_ids\n",
        "\n",
        "mock_example_long = \"lorem ipsum dolar sonet \"*10_000\n",
        "assert len(process_text(mock_example_long, tokenizer, vocab)) == 256\n",
        "\n",
        "mock_example_short = \"lorem ipsum dolar sonet \"*2\n",
        "assert len(process_text(mock_example_short, tokenizer, vocab)) == 256\n",
        "assert process_text(mock_example_short, tokenizer, vocab)[-1] == vocab[\"<pad>\"] # <pad> tokens in end"
      ]
    },
    {
      "cell_type": "markdown",
      "metadata": {
        "id": "YL2gW7zxbPS3"
      },
      "source": [
        "We'll use the `process_text` function in a PyTorch `Dataloader`. There is some more stuff that needs to be done to prepare the data, which we're doing in this `collate_fn`. The `collate_fn` in a `Dataloader` is responsible for making sure the training data is in the right format for our model.\n",
        "\n",
        "Take a minute to go through the `collate_fn()` to understand what's going on."
      ]
    },
    {
      "cell_type": "code",
      "execution_count": 7,
      "metadata": {
        "id": "g6GQ-SEu1Zy2"
      },
      "outputs": [],
      "source": [
        "def collate_fn(batch, tokenizer, vocab, device):\n",
        "  prepared_labels, prepared_texts = [], []\n",
        "  for (_label, _text) in batch:\n",
        "        prepared_labels.append(int(_label) - 1) # labels in data start at 1, torch wants start at 0\n",
        "        processed_text = process_text(_text, tokenizer, vocab)\n",
        "        prepared_texts.append(processed_text)\n",
        "\n",
        "  # turn into tensors (containing the token IDs)\n",
        "  prepared_labels = torch.tensor(prepared_labels, dtype=torch.int64)\n",
        "  prepared_texts = torch.tensor(prepared_texts, dtype=torch.int64)\n",
        "\n",
        "  # Move to GPU if necessary\n",
        "  prepared_labels, prepared_texts = prepared_labels.to(device), prepared_texts.to(device)\n",
        "  return prepared_labels, prepared_texts"
      ]
    },
    {
      "cell_type": "markdown",
      "metadata": {
        "id": "8v_mJm9L8j37"
      },
      "source": [
        "## Neural Network Architecture"
      ]
    },
    {
      "cell_type": "markdown",
      "metadata": {
        "id": "hQVAPq9XG8oX"
      },
      "source": [
        "Now, we'll define our model architecture. You will need to implement two main parts:\n",
        "1. An Embedding Layer that maps token IDs to a 1-dimensional tensor (i.e. vector) of a fixed size (in this example, choose 50)\n",
        "2. A Multi-Layer Percpetron that gets as input the **mean** of all token embeddings in the input sequence and outputs distribution over the number of classes.\n",
        "\n",
        "\n",
        "<details>\n",
        "<summary>Background: Why do we take the mean?</summary>\n",
        "<br>\n",
        "Another option is to concatenate all input embeddings in a sequence in order and feed them into the MLP (our MLP will then need an input layer of size <code>embed_dim * sequence_length</code>). This leads to a larger model but most importantly introduces a strong dependency on the <b>position</b> in the sequence a token appears in. If a token is just shifted a single position to the right, it will be fed into a completely different set of neurons. Obviously, this is undesirable. By taking the mean, we obtain a <b>position-invariant</b> model. The attentive reader will have noticed that a position-invariant model fixes the position-dependency problem, but looses relevant information (i.e. the token order) in the process. In the coming weeks, we will discuss the state-of-the-art architectural innovation to alleviate this problem... stay tuned!</details>\n",
        "\n"
      ]
    },
    {
      "cell_type": "markdown",
      "metadata": {
        "id": "4nzrIzShJ2d5"
      },
      "source": [
        "**Task 4 (10 points)**:\n",
        "- (4 points) Define the network architecture in the `__init__()` function below. We will use an embedding dimension of `50` and train a 2-layer MLP with a single fully-connected hidden layer with ReLU activation, you can also use dimension `50`. The output layer should have neurons according to `num_class`.\n",
        "- (4 points) Complete `init_weights()` to initialize the embedding layer and the MLP weights from a uniform distribution with range `[-1,1]`. Initialize all biases in the MLP to zero.\n",
        "- (2 points) Complete the forward pass of the network (token ID -> embedding -> MLP). For the MLP, use a fully-connected layer (`Linear` layer in `torch.nn`) and the ReLU activation function."
      ]
    },
    {
      "cell_type": "markdown",
      "metadata": {
        "id": "dUmE-URtY_dc"
      },
      "source": [
        "**Tips**\n",
        "- When defining the Embedding, make sure to supply the correct `padding_idx`. **This is crucial** to make sure that the padding embedding stays a `0`-vector instead of being optimized by gradient descent.\n",
        "- The network should only ouput the *logits* (the stuff before the softmax layer). The actual softmax to obtain a probability distribution over classes is combined with the loss function later on for numerical stability."
      ]
    },
    {
      "cell_type": "code",
      "execution_count": 8,
      "metadata": {
        "id": "Tk-tcKf7KxSW"
      },
      "outputs": [],
      "source": [
        "from torch import nn\n",
        "from torch.nn import EmbeddingBag, Linear, ReLU, Sequential # hints\n",
        "\n",
        "\n",
        "class MyTextClassifier(nn.Module):\n",
        "    def __init__(self, vocab_size, embed_dim, hidden_dim, num_class):\n",
        "        super().__init__()\n",
        "        # TODO: define embedding layer\n",
        "        self.embedding = EmbeddingBag(vocab_size, embed_dim, sparse=False, padding_idx=1)\n",
        "\n",
        "\n",
        "        # TODO: define MLP\n",
        "        self.mlp = Sequential(\n",
        "            Linear(embed_dim, hidden_dim),\n",
        "            ReLU(),\n",
        "            Linear(hidden_dim, num_class)\n",
        "        )\n",
        "        self.init_weights()\n",
        "\n",
        "    def init_weights(self):\n",
        "        # TODO: initialize weights\n",
        "        # hint: what should you set for `nn.Linear.weight` and `nn.Linear.bias` variables? For all layers of the network?\n",
        "        for name, param in self.named_parameters():\n",
        "            if \"weight\" in name:\n",
        "                nn.init.uniform_(param, -1, 1)\n",
        "            elif \"bias\" in name:\n",
        "                nn.init.zeros_(param)\n",
        "\n",
        "\n",
        "\n",
        "    def forward(self, text):\n",
        "        # TODO forward pass\n",
        "        embedded = self.embedding(text)\n",
        "        output = self.mlp(embedded)\n",
        "        return output"
      ]
    },
    {
      "cell_type": "markdown",
      "metadata": {
        "id": "ximO_oIm-gxD"
      },
      "source": [
        "## Training Loop"
      ]
    },
    {
      "cell_type": "markdown",
      "metadata": {
        "id": "o4zGFOylMVbi"
      },
      "source": [
        "Now comes the last part: defining the training loop! We have prepared a skeleton for you to use below. Make sure you understand every part of the code.\n",
        "\n",
        "**Task 5 (8 points)**: Complete the training loop with all relevant steps. The training should run without errors when executing the next task and loss on the training set should steadily decrease. The code will be used in conjunction with the cell form Task 6, so you should also look at the code there for context.\n",
        "\n",
        "If you're new to PyTorch, you can find inspiration in this blog post: https://pytorch.org/tutorials/beginner/introyt/trainingyt.html."
      ]
    },
    {
      "cell_type": "code",
      "execution_count": 9,
      "metadata": {
        "id": "OGdfs2HvLZNU"
      },
      "outputs": [],
      "source": [
        "import time\n",
        "from tqdm import tqdm\n",
        "\n",
        "def train(model, dataloader, optimizer, loss_fn, epoch=1):\n",
        "    \"\"\"Do model training for a single epoch.\"\"\"\n",
        "    # TODO: set model to `train` mode\n",
        "    model.train()\n",
        "\n",
        "    total_acc, total_loss, total_count = 0, 0, 0\n",
        "    log_interval = 500\n",
        "    start_time = time.time()\n",
        "    train_progress = tqdm(dataloader, desc=f\"Epoch {epoch}\", leave=False)\n",
        "\n",
        "    for idx, (label, tokens) in enumerate(train_progress, 0):\n",
        "        # TODO: reset gradients to zero\n",
        "        optimizer.zero_grad()\n",
        "\n",
        "        # TODO: do the forward pass\n",
        "        output = model(tokens)\n",
        "\n",
        "        # TODO: compute the loss\n",
        "        loss = loss_fn(output, label)\n",
        "\n",
        "        # TODO: do the backward pass\n",
        "        loss.backward()\n",
        "\n",
        "        # TODO: do the optimization step\n",
        "        optimizer.step()\n",
        "\n",
        "\n",
        "        # Logging and evaluation\n",
        "        total_acc += (output.argmax(1) == label).sum().item()\n",
        "        total_count += label.size(0)\n",
        "        total_loss += loss.item()\n",
        "        if idx % log_interval == 0 and idx > 0:\n",
        "            avg_loss = total_loss / log_interval # loss is already mean over batch dim\n",
        "\n",
        "            # train_progress.set_description(f\"Epoch: {epoch}, loss: {avg_loss:.3}\")\n",
        "            elapsed = time.time() - start_time\n",
        "            print(f' |{idx:5d}/{len(dataloader):5d} batches | loss: {avg_loss:.3} | accuracy {total_acc/total_count:.3f}')\n",
        "            total_acc, total_loss, total_count = 0, 0, 0\n",
        "            start_time = time.time()\n",
        "\n",
        "def evaluate(model, dataloader, loss_fn):\n",
        "    model.eval()\n",
        "    total_acc, total_count = 0, 0\n",
        "\n",
        "    with torch.no_grad(): # Faster, since we do not want gradients here\n",
        "        for idx, (label, tokens) in enumerate(dataloader):\n",
        "            # TODO: do the forward pass to get predictions\n",
        "            prediction = model(tokens)\n",
        "\n",
        "            # TODO: calculate loss\n",
        "            loss = loss_fn(prediction, label)\n",
        "\n",
        "            total_acc += (prediction.argmax(1) == label).sum().item()\n",
        "            total_count += label.size(0)\n",
        "    return total_acc/total_count"
      ]
    },
    {
      "cell_type": "markdown",
      "metadata": {
        "id": "wKQBwzuEb9lF"
      },
      "source": [
        "Congratulations! Everything should be set up now and you can start the training using the cell below."
      ]
    },
    {
      "cell_type": "markdown",
      "metadata": {
        "id": "GZVcuHt2bWPf"
      },
      "source": [
        "You will notice that the training is quite slow. We have already implemented the use of GPUs for hardware acceleration. So let's use a GPU to make things faster 🚀. Google Colab lets you use a free GPU. Go to Runtime > Change runtime type > Select GPU in the dropdown. **You will need to restart the runtime and re-execute cells.** The restart should happen automatically, you might have to re-execute cells manually.\n",
        "\n",
        "\n",
        "To use the power of GPUs, our **model** and **data** need to be transferred to the GPU in our code. This is done by the `.to(device)` calls where the device is set to \"cpu\" or \"cuda\" (for Nvidia GPUs) depending on GPU availability."
      ]
    },
    {
      "cell_type": "markdown",
      "metadata": {
        "id": "Gijnm3BBcH72"
      },
      "source": [
        "**Task 6 (10 points)**: Achieve an accuracy on the dev split of 90%! There are simple and more creative ways to do this. It's entirely up to you! We have defined defaults for the hyperparameters, loss functions, optimizer, etc. in the code. **Hint:** they are not optimal. Briefly summarize your changes below.\n",
        "\n",
        "If you do not know where to start: our \"Neural Network Tuning Guide\" at the end of this notebook will be helpful for you, particularly the \"Basic Wisdom\".\n",
        "\n",
        "You are allowed to collaborate with other students for this part but everyone should submit their own unqiue solution (i.e. do not copy-paste code or text answers).\n",
        "\n",
        "For this task it is especially important to keep the output of your successful training in the submission. The last evaluation on the dev set in the output should be over 90%. If you modify any of the previous cells, keep the code for the original task as a comment.\n",
        "\n",
        "\n",
        "- If you reach 80% accuracy, you'll get 3 points\n",
        "- If you reach 85%, you'll get 5 points\n",
        "- If you reach 88%, you'll get 8 points\n",
        "- If you get to >=90%, you'll get 10 points"
      ]
    },
    {
      "cell_type": "code",
      "execution_count": 19,
      "metadata": {
        "colab": {
          "base_uri": "https://localhost:8080/"
        },
        "id": "ccrz_nfS3KdR",
        "outputId": "9abc8116-c765-4609-c90d-38ab6b3a45ea"
      },
      "outputs": [
        {
          "name": "stderr",
          "output_type": "stream",
          "text": [
            "Epoch 1:  30%|██▉       | 502/1688 [00:38<01:45, 11.22it/s]"
          ]
        },
        {
          "name": "stdout",
          "output_type": "stream",
          "text": [
            " |  500/ 1688 batches | loss: 0.445 | accuracy 0.841\n"
          ]
        },
        {
          "name": "stderr",
          "output_type": "stream",
          "text": [
            "Epoch 1:  59%|█████▉    | 1002/1688 [01:14<00:51, 13.28it/s]"
          ]
        },
        {
          "name": "stdout",
          "output_type": "stream",
          "text": [
            " | 1000/ 1688 batches | loss: 0.274 | accuracy 0.906\n"
          ]
        },
        {
          "name": "stderr",
          "output_type": "stream",
          "text": [
            "Epoch 1:  89%|████████▉ | 1502/1688 [01:56<00:19,  9.34it/s]"
          ]
        },
        {
          "name": "stdout",
          "output_type": "stream",
          "text": [
            " | 1500/ 1688 batches | loss: 0.248 | accuracy 0.916\n"
          ]
        },
        {
          "name": "stderr",
          "output_type": "stream",
          "text": []
        },
        {
          "name": "stdout",
          "output_type": "stream",
          "text": [
            "-----------------------------------------------------------\n",
            "| end of epoch   1 | time: 135.71s | dev set accuracy    0.915 \n",
            "-----------------------------------------------------------\n"
          ]
        },
        {
          "name": "stderr",
          "output_type": "stream",
          "text": [
            "Epoch 2:  30%|██▉       | 502/1688 [00:46<01:49, 10.87it/s]"
          ]
        },
        {
          "name": "stdout",
          "output_type": "stream",
          "text": [
            " |  500/ 1688 batches | loss: 0.118 | accuracy 0.959\n"
          ]
        },
        {
          "name": "stderr",
          "output_type": "stream",
          "text": [
            "Epoch 2:  59%|█████▉    | 1003/1688 [01:31<00:58, 11.63it/s]"
          ]
        },
        {
          "name": "stdout",
          "output_type": "stream",
          "text": [
            " | 1000/ 1688 batches | loss: 0.125 | accuracy 0.956\n"
          ]
        },
        {
          "name": "stderr",
          "output_type": "stream",
          "text": [
            "Epoch 2:  89%|████████▉ | 1503/1688 [02:17<00:16, 11.43it/s]"
          ]
        },
        {
          "name": "stdout",
          "output_type": "stream",
          "text": [
            " | 1500/ 1688 batches | loss: 0.138 | accuracy 0.950\n"
          ]
        },
        {
          "name": "stderr",
          "output_type": "stream",
          "text": []
        },
        {
          "name": "stdout",
          "output_type": "stream",
          "text": [
            "-----------------------------------------------------------\n",
            "| end of epoch   2 | time: 156.88s | dev set accuracy    0.909 \n",
            "-----------------------------------------------------------\n"
          ]
        },
        {
          "name": "stderr",
          "output_type": "stream",
          "text": [
            "Epoch 3:  30%|██▉       | 502/1688 [00:47<01:42, 11.61it/s]"
          ]
        },
        {
          "name": "stdout",
          "output_type": "stream",
          "text": [
            " |  500/ 1688 batches | loss: 0.0553 | accuracy 0.981\n"
          ]
        },
        {
          "name": "stderr",
          "output_type": "stream",
          "text": [
            "Epoch 3:  59%|█████▉    | 1002/1688 [01:32<01:13,  9.27it/s]"
          ]
        },
        {
          "name": "stdout",
          "output_type": "stream",
          "text": [
            " | 1000/ 1688 batches | loss: 0.0669 | accuracy 0.976\n"
          ]
        },
        {
          "name": "stderr",
          "output_type": "stream",
          "text": [
            "Epoch 3:  89%|████████▉ | 1503/1688 [02:19<00:16, 11.31it/s]"
          ]
        },
        {
          "name": "stdout",
          "output_type": "stream",
          "text": [
            " | 1500/ 1688 batches | loss: 0.0777 | accuracy 0.972\n"
          ]
        },
        {
          "name": "stderr",
          "output_type": "stream",
          "text": []
        },
        {
          "name": "stdout",
          "output_type": "stream",
          "text": [
            "-----------------------------------------------------------\n",
            "| end of epoch   3 | time: 159.82s | dev set accuracy    0.907 \n",
            "-----------------------------------------------------------\n"
          ]
        }
      ],
      "source": [
        "import torch\n",
        "from torch.utils.data import DataLoader\n",
        "\n",
        "# Hyperparameters - sane default values for this example\n",
        "EPOCHS = 3 # epoch\n",
        "LR = 0.01 # learning rate / from 0.1 to 0.01\n",
        "BATCH_SIZE = 64 # batch size for training\n",
        "\n",
        "device = torch.device(\"cuda\" if torch.cuda.is_available() else \"cpu\")\n",
        "torch.manual_seed(42) # for reproducible results\n",
        "\n",
        "model = MyTextClassifier(\n",
        "    vocab_size=len(vocab),\n",
        "    embed_dim=50,\n",
        "    hidden_dim=50,\n",
        "    num_class=4 # TODO: fill in correct value\n",
        "    )\n",
        "model = model.to(device) # Move model to GPU if necessary\n",
        "\n",
        "loss_fn = torch.nn.CrossEntropyLoss() # this combines softmax with the actual loss function\n",
        "optimizer = torch.optim.Adam(model.parameters(), lr=LR) # Adam Optimizer instead of SGD\n",
        "\n",
        "collator = lambda batch: collate_fn(batch, tokenizer, vocab, device)\n",
        "\n",
        "train_dataloader = DataLoader(train_split, batch_size=BATCH_SIZE,\n",
        "                              shuffle=True, collate_fn=collator)\n",
        "dev_dataloader = DataLoader(dev_split, batch_size=BATCH_SIZE,\n",
        "                              shuffle=False, collate_fn=collator)\n",
        "\n",
        "\n",
        "for epoch in range(1, EPOCHS + 1):\n",
        "    epoch_start_time = time.time()\n",
        "    train(model, train_dataloader, optimizer, loss_fn, epoch)\n",
        "    accu_val = evaluate(model, dev_dataloader, loss_fn)\n",
        "    print('-' * 59)\n",
        "    print(f'| end of epoch {epoch:3d} | time: {time.time() - epoch_start_time:5.2f}s | ' +\n",
        "          f'dev set accuracy {accu_val:8.3f} ')\n",
        "    print('-' * 59)"
      ]
    },
    {
      "cell_type": "code",
      "execution_count": null,
      "metadata": {
        "id": "FBuSFXJJfcvL"
      },
      "outputs": [],
      "source": [
        "# TODO: What did you do to achieve 90% accuracy on the dev set? Explain!\n",
        "#Changed the optimizer to adam and decreased learning rate"
      ]
    },
    {
      "cell_type": "markdown",
      "metadata": {
        "id": "s25N4C0STDTt"
      },
      "source": [
        "**Task 7 (2 points)**: Finally, you should evaluate your best model on the test split. Does it perform as well as on the dev split?\n",
        "\n",
        "**The test set**: Careful, if you run this and change something about your model, your results are not statistically significant anymore!"
      ]
    },
    {
      "cell_type": "code",
      "execution_count": 22,
      "metadata": {
        "colab": {
          "base_uri": "https://localhost:8080/"
        },
        "id": "0CRKsvU_chkU",
        "outputId": "482fee87-6b0d-49c8-c7f0-362a7cb6bddd"
      },
      "outputs": [
        {
          "name": "stdout",
          "output_type": "stream",
          "text": [
            "test accuracy 0.913\n"
          ]
        }
      ],
      "source": [
        "test_dataloader = DataLoader(test_split, batch_size=BATCH_SIZE,\n",
        "                             shuffle=False, collate_fn=collator)\n",
        "\n",
        "accu_test = evaluate(model, test_dataloader, loss_fn)\n",
        "print(f'test accuracy {accu_test:.3f}')"
      ]
    },
    {
      "cell_type": "code",
      "execution_count": null,
      "metadata": {
        "id": "5cz4yNwJeRGs"
      },
      "outputs": [],
      "source": [
        "# Short answer: does performance match the test set? Hypothesis why / why not?\n",
        "\n",
        "#Pretty similar\n"
      ]
    },
    {
      "cell_type": "markdown",
      "metadata": {
        "id": "JyRA3GkphlKU"
      },
      "source": [
        "**Task 8 (5 points)**: So far, our embedding layer was trained from a random initialization each time. However, there already exist **pretrained** word embeddings like Word2Vec or GloVe.\n",
        "- Choose an appropriate pretrained word embedding (hint: `torchtext.vocab.GloVe`. hint2: embedding dimension.)\n",
        "- Use the pretrained word embedding to initialize the model token embedding. The vocabularies in both embeddings will not be the same! Here, a naive solution is okay (only initialize the token embeddings that occur in both vocabularies). But you can also think of smarter strategies!\n",
        "- You should use the exact same setup you have used to achieve your 90% accuracy score in the previous task (if you need to change any cells for the intialization, simply copy + paste them below; then modify & re-execute. Do not modify the code above). Summarize your observations and provide a brief explanation for why they might occur."
      ]
    },
    {
      "cell_type": "code",
      "execution_count": null,
      "metadata": {
        "id": "vfN9R5pcjjbz"
      },
      "outputs": [],
      "source": [
        "# What changes when initializing from pretrained embeddings instead of a random distribution? Explain!\n"
      ]
    },
    {
      "cell_type": "code",
      "execution_count": 24,
      "metadata": {
        "colab": {
          "base_uri": "https://localhost:8080/",
          "height": 397
        },
        "id": "n5TPbX68iGR8",
        "outputId": "c3bf8607-5bbf-4579-c978-60233c8bb979"
      },
      "outputs": [
        {
          "name": "stderr",
          "output_type": "stream",
          "text": [
            ".vector_cache/glove.6B.zip: 0.00B [00:00, ?B/s]\n"
          ]
        },
        {
          "ename": "HTTPError",
          "evalue": "ignored",
          "output_type": "error",
          "traceback": [
            "\u001b[0;31m---------------------------------------------------------------------------\u001b[0m",
            "\u001b[0;31mHTTPError\u001b[0m                                 Traceback (most recent call last)",
            "\u001b[0;32m<ipython-input-24-17d199c56c9b>\u001b[0m in \u001b[0;36m<cell line: 15>\u001b[0;34m()\u001b[0m\n\u001b[1;32m     13\u001b[0m \u001b[0;34m\u001b[0m\u001b[0m\n\u001b[1;32m     14\u001b[0m \u001b[0;31m# TODO: load pretrained word embeddings and use them to init the model's embedding layer\u001b[0m\u001b[0;34m\u001b[0m\u001b[0;34m\u001b[0m\u001b[0m\n\u001b[0;32m---> 15\u001b[0;31m \u001b[0mglove\u001b[0m \u001b[0;34m=\u001b[0m \u001b[0mtorchtext\u001b[0m\u001b[0;34m.\u001b[0m\u001b[0mvocab\u001b[0m\u001b[0;34m.\u001b[0m\u001b[0mGloVe\u001b[0m\u001b[0;34m(\u001b[0m\u001b[0mname\u001b[0m\u001b[0;34m=\u001b[0m\u001b[0;34m'6B'\u001b[0m\u001b[0;34m,\u001b[0m \u001b[0mdim\u001b[0m\u001b[0;34m=\u001b[0m\u001b[0;36m50\u001b[0m\u001b[0;34m)\u001b[0m\u001b[0;34m\u001b[0m\u001b[0;34m\u001b[0m\u001b[0m\n\u001b[0m\u001b[1;32m     16\u001b[0m \u001b[0;34m\u001b[0m\u001b[0m\n\u001b[1;32m     17\u001b[0m \u001b[0;32mfor\u001b[0m \u001b[0mtoken\u001b[0m\u001b[0;34m,\u001b[0m \u001b[0midx\u001b[0m \u001b[0;32min\u001b[0m \u001b[0mvocab\u001b[0m\u001b[0;34m.\u001b[0m\u001b[0mstoi\u001b[0m\u001b[0;34m.\u001b[0m\u001b[0mitems\u001b[0m\u001b[0;34m(\u001b[0m\u001b[0;34m)\u001b[0m\u001b[0;34m:\u001b[0m\u001b[0;34m\u001b[0m\u001b[0;34m\u001b[0m\u001b[0m\n",
            "\u001b[0;32m/usr/local/lib/python3.10/dist-packages/torchtext/vocab/vectors.py\u001b[0m in \u001b[0;36m__init__\u001b[0;34m(self, name, dim, **kwargs)\u001b[0m\n\u001b[1;32m    218\u001b[0m         \u001b[0murl\u001b[0m \u001b[0;34m=\u001b[0m \u001b[0mself\u001b[0m\u001b[0;34m.\u001b[0m\u001b[0murl\u001b[0m\u001b[0;34m[\u001b[0m\u001b[0mname\u001b[0m\u001b[0;34m]\u001b[0m\u001b[0;34m\u001b[0m\u001b[0;34m\u001b[0m\u001b[0m\n\u001b[1;32m    219\u001b[0m         \u001b[0mname\u001b[0m \u001b[0;34m=\u001b[0m \u001b[0;34m\"glove.{}.{}d.txt\"\u001b[0m\u001b[0;34m.\u001b[0m\u001b[0mformat\u001b[0m\u001b[0;34m(\u001b[0m\u001b[0mname\u001b[0m\u001b[0;34m,\u001b[0m \u001b[0mstr\u001b[0m\u001b[0;34m(\u001b[0m\u001b[0mdim\u001b[0m\u001b[0;34m)\u001b[0m\u001b[0;34m)\u001b[0m\u001b[0;34m\u001b[0m\u001b[0;34m\u001b[0m\u001b[0m\n\u001b[0;32m--> 220\u001b[0;31m         \u001b[0msuper\u001b[0m\u001b[0;34m(\u001b[0m\u001b[0mGloVe\u001b[0m\u001b[0;34m,\u001b[0m \u001b[0mself\u001b[0m\u001b[0;34m)\u001b[0m\u001b[0;34m.\u001b[0m\u001b[0m__init__\u001b[0m\u001b[0;34m(\u001b[0m\u001b[0mname\u001b[0m\u001b[0;34m,\u001b[0m \u001b[0murl\u001b[0m\u001b[0;34m=\u001b[0m\u001b[0murl\u001b[0m\u001b[0;34m,\u001b[0m \u001b[0;34m**\u001b[0m\u001b[0mkwargs\u001b[0m\u001b[0;34m)\u001b[0m\u001b[0;34m\u001b[0m\u001b[0;34m\u001b[0m\u001b[0m\n\u001b[0m\u001b[1;32m    221\u001b[0m \u001b[0;34m\u001b[0m\u001b[0m\n\u001b[1;32m    222\u001b[0m \u001b[0;34m\u001b[0m\u001b[0m\n",
            "\u001b[0;32m/usr/local/lib/python3.10/dist-packages/torchtext/vocab/vectors.py\u001b[0m in \u001b[0;36m__init__\u001b[0;34m(self, name, cache, url, unk_init, max_vectors)\u001b[0m\n\u001b[1;32m     57\u001b[0m         \u001b[0mself\u001b[0m\u001b[0;34m.\u001b[0m\u001b[0mdim\u001b[0m \u001b[0;34m=\u001b[0m \u001b[0;32mNone\u001b[0m\u001b[0;34m\u001b[0m\u001b[0;34m\u001b[0m\u001b[0m\n\u001b[1;32m     58\u001b[0m         \u001b[0mself\u001b[0m\u001b[0;34m.\u001b[0m\u001b[0munk_init\u001b[0m \u001b[0;34m=\u001b[0m \u001b[0mtorch\u001b[0m\u001b[0;34m.\u001b[0m\u001b[0mTensor\u001b[0m\u001b[0;34m.\u001b[0m\u001b[0mzero_\u001b[0m \u001b[0;32mif\u001b[0m \u001b[0munk_init\u001b[0m \u001b[0;32mis\u001b[0m \u001b[0;32mNone\u001b[0m \u001b[0;32melse\u001b[0m \u001b[0munk_init\u001b[0m\u001b[0;34m\u001b[0m\u001b[0;34m\u001b[0m\u001b[0m\n\u001b[0;32m---> 59\u001b[0;31m         \u001b[0mself\u001b[0m\u001b[0;34m.\u001b[0m\u001b[0mcache\u001b[0m\u001b[0;34m(\u001b[0m\u001b[0mname\u001b[0m\u001b[0;34m,\u001b[0m \u001b[0mcache\u001b[0m\u001b[0;34m,\u001b[0m \u001b[0murl\u001b[0m\u001b[0;34m=\u001b[0m\u001b[0murl\u001b[0m\u001b[0;34m,\u001b[0m \u001b[0mmax_vectors\u001b[0m\u001b[0;34m=\u001b[0m\u001b[0mmax_vectors\u001b[0m\u001b[0;34m)\u001b[0m\u001b[0;34m\u001b[0m\u001b[0;34m\u001b[0m\u001b[0m\n\u001b[0m\u001b[1;32m     60\u001b[0m \u001b[0;34m\u001b[0m\u001b[0m\n\u001b[1;32m     61\u001b[0m     \u001b[0;32mdef\u001b[0m \u001b[0m__getitem__\u001b[0m\u001b[0;34m(\u001b[0m\u001b[0mself\u001b[0m\u001b[0;34m,\u001b[0m \u001b[0mtoken\u001b[0m\u001b[0;34m)\u001b[0m\u001b[0;34m:\u001b[0m\u001b[0;34m\u001b[0m\u001b[0;34m\u001b[0m\u001b[0m\n",
            "\u001b[0;32m/usr/local/lib/python3.10/dist-packages/torchtext/vocab/vectors.py\u001b[0m in \u001b[0;36mcache\u001b[0;34m(self, name, cache, url, max_vectors)\u001b[0m\n\u001b[1;32m     93\u001b[0m                     \u001b[0;32mwith\u001b[0m \u001b[0mtqdm\u001b[0m\u001b[0;34m(\u001b[0m\u001b[0munit\u001b[0m\u001b[0;34m=\u001b[0m\u001b[0;34m\"B\"\u001b[0m\u001b[0;34m,\u001b[0m \u001b[0munit_scale\u001b[0m\u001b[0;34m=\u001b[0m\u001b[0;32mTrue\u001b[0m\u001b[0;34m,\u001b[0m \u001b[0mminiters\u001b[0m\u001b[0;34m=\u001b[0m\u001b[0;36m1\u001b[0m\u001b[0;34m,\u001b[0m \u001b[0mdesc\u001b[0m\u001b[0;34m=\u001b[0m\u001b[0mdest\u001b[0m\u001b[0;34m)\u001b[0m \u001b[0;32mas\u001b[0m \u001b[0mt\u001b[0m\u001b[0;34m:\u001b[0m\u001b[0;34m\u001b[0m\u001b[0;34m\u001b[0m\u001b[0m\n\u001b[1;32m     94\u001b[0m                         \u001b[0;32mtry\u001b[0m\u001b[0;34m:\u001b[0m\u001b[0;34m\u001b[0m\u001b[0;34m\u001b[0m\u001b[0m\n\u001b[0;32m---> 95\u001b[0;31m                             \u001b[0murlretrieve\u001b[0m\u001b[0;34m(\u001b[0m\u001b[0murl\u001b[0m\u001b[0;34m,\u001b[0m \u001b[0mdest\u001b[0m\u001b[0;34m,\u001b[0m \u001b[0mreporthook\u001b[0m\u001b[0;34m=\u001b[0m\u001b[0mreporthook\u001b[0m\u001b[0;34m(\u001b[0m\u001b[0mt\u001b[0m\u001b[0;34m)\u001b[0m\u001b[0;34m)\u001b[0m\u001b[0;34m\u001b[0m\u001b[0;34m\u001b[0m\u001b[0m\n\u001b[0m\u001b[1;32m     96\u001b[0m                         \u001b[0;32mexcept\u001b[0m \u001b[0mKeyboardInterrupt\u001b[0m \u001b[0;32mas\u001b[0m \u001b[0me\u001b[0m\u001b[0;34m:\u001b[0m  \u001b[0;31m# remove the partial zip file\u001b[0m\u001b[0;34m\u001b[0m\u001b[0;34m\u001b[0m\u001b[0m\n\u001b[1;32m     97\u001b[0m                             \u001b[0mos\u001b[0m\u001b[0;34m.\u001b[0m\u001b[0mremove\u001b[0m\u001b[0;34m(\u001b[0m\u001b[0mdest\u001b[0m\u001b[0;34m)\u001b[0m\u001b[0;34m\u001b[0m\u001b[0;34m\u001b[0m\u001b[0m\n",
            "\u001b[0;32m/usr/lib/python3.10/urllib/request.py\u001b[0m in \u001b[0;36murlretrieve\u001b[0;34m(url, filename, reporthook, data)\u001b[0m\n\u001b[1;32m    239\u001b[0m     \u001b[0murl_type\u001b[0m\u001b[0;34m,\u001b[0m \u001b[0mpath\u001b[0m \u001b[0;34m=\u001b[0m \u001b[0m_splittype\u001b[0m\u001b[0;34m(\u001b[0m\u001b[0murl\u001b[0m\u001b[0;34m)\u001b[0m\u001b[0;34m\u001b[0m\u001b[0;34m\u001b[0m\u001b[0m\n\u001b[1;32m    240\u001b[0m \u001b[0;34m\u001b[0m\u001b[0m\n\u001b[0;32m--> 241\u001b[0;31m     \u001b[0;32mwith\u001b[0m \u001b[0mcontextlib\u001b[0m\u001b[0;34m.\u001b[0m\u001b[0mclosing\u001b[0m\u001b[0;34m(\u001b[0m\u001b[0murlopen\u001b[0m\u001b[0;34m(\u001b[0m\u001b[0murl\u001b[0m\u001b[0;34m,\u001b[0m \u001b[0mdata\u001b[0m\u001b[0;34m)\u001b[0m\u001b[0;34m)\u001b[0m \u001b[0;32mas\u001b[0m \u001b[0mfp\u001b[0m\u001b[0;34m:\u001b[0m\u001b[0;34m\u001b[0m\u001b[0;34m\u001b[0m\u001b[0m\n\u001b[0m\u001b[1;32m    242\u001b[0m         \u001b[0mheaders\u001b[0m \u001b[0;34m=\u001b[0m \u001b[0mfp\u001b[0m\u001b[0;34m.\u001b[0m\u001b[0minfo\u001b[0m\u001b[0;34m(\u001b[0m\u001b[0;34m)\u001b[0m\u001b[0;34m\u001b[0m\u001b[0;34m\u001b[0m\u001b[0m\n\u001b[1;32m    243\u001b[0m \u001b[0;34m\u001b[0m\u001b[0m\n",
            "\u001b[0;32m/usr/lib/python3.10/urllib/request.py\u001b[0m in \u001b[0;36murlopen\u001b[0;34m(url, data, timeout, cafile, capath, cadefault, context)\u001b[0m\n\u001b[1;32m    214\u001b[0m     \u001b[0;32melse\u001b[0m\u001b[0;34m:\u001b[0m\u001b[0;34m\u001b[0m\u001b[0;34m\u001b[0m\u001b[0m\n\u001b[1;32m    215\u001b[0m         \u001b[0mopener\u001b[0m \u001b[0;34m=\u001b[0m \u001b[0m_opener\u001b[0m\u001b[0;34m\u001b[0m\u001b[0;34m\u001b[0m\u001b[0m\n\u001b[0;32m--> 216\u001b[0;31m     \u001b[0;32mreturn\u001b[0m \u001b[0mopener\u001b[0m\u001b[0;34m.\u001b[0m\u001b[0mopen\u001b[0m\u001b[0;34m(\u001b[0m\u001b[0murl\u001b[0m\u001b[0;34m,\u001b[0m \u001b[0mdata\u001b[0m\u001b[0;34m,\u001b[0m \u001b[0mtimeout\u001b[0m\u001b[0;34m)\u001b[0m\u001b[0;34m\u001b[0m\u001b[0;34m\u001b[0m\u001b[0m\n\u001b[0m\u001b[1;32m    217\u001b[0m \u001b[0;34m\u001b[0m\u001b[0m\n\u001b[1;32m    218\u001b[0m \u001b[0;32mdef\u001b[0m \u001b[0minstall_opener\u001b[0m\u001b[0;34m(\u001b[0m\u001b[0mopener\u001b[0m\u001b[0;34m)\u001b[0m\u001b[0;34m:\u001b[0m\u001b[0;34m\u001b[0m\u001b[0;34m\u001b[0m\u001b[0m\n",
            "\u001b[0;32m/usr/lib/python3.10/urllib/request.py\u001b[0m in \u001b[0;36mopen\u001b[0;34m(self, fullurl, data, timeout)\u001b[0m\n\u001b[1;32m    523\u001b[0m         \u001b[0;32mfor\u001b[0m \u001b[0mprocessor\u001b[0m \u001b[0;32min\u001b[0m \u001b[0mself\u001b[0m\u001b[0;34m.\u001b[0m\u001b[0mprocess_response\u001b[0m\u001b[0;34m.\u001b[0m\u001b[0mget\u001b[0m\u001b[0;34m(\u001b[0m\u001b[0mprotocol\u001b[0m\u001b[0;34m,\u001b[0m \u001b[0;34m[\u001b[0m\u001b[0;34m]\u001b[0m\u001b[0;34m)\u001b[0m\u001b[0;34m:\u001b[0m\u001b[0;34m\u001b[0m\u001b[0;34m\u001b[0m\u001b[0m\n\u001b[1;32m    524\u001b[0m             \u001b[0mmeth\u001b[0m \u001b[0;34m=\u001b[0m \u001b[0mgetattr\u001b[0m\u001b[0;34m(\u001b[0m\u001b[0mprocessor\u001b[0m\u001b[0;34m,\u001b[0m \u001b[0mmeth_name\u001b[0m\u001b[0;34m)\u001b[0m\u001b[0;34m\u001b[0m\u001b[0;34m\u001b[0m\u001b[0m\n\u001b[0;32m--> 525\u001b[0;31m             \u001b[0mresponse\u001b[0m \u001b[0;34m=\u001b[0m \u001b[0mmeth\u001b[0m\u001b[0;34m(\u001b[0m\u001b[0mreq\u001b[0m\u001b[0;34m,\u001b[0m \u001b[0mresponse\u001b[0m\u001b[0;34m)\u001b[0m\u001b[0;34m\u001b[0m\u001b[0;34m\u001b[0m\u001b[0m\n\u001b[0m\u001b[1;32m    526\u001b[0m \u001b[0;34m\u001b[0m\u001b[0m\n\u001b[1;32m    527\u001b[0m         \u001b[0;32mreturn\u001b[0m \u001b[0mresponse\u001b[0m\u001b[0;34m\u001b[0m\u001b[0;34m\u001b[0m\u001b[0m\n",
            "\u001b[0;32m/usr/lib/python3.10/urllib/request.py\u001b[0m in \u001b[0;36mhttp_response\u001b[0;34m(self, request, response)\u001b[0m\n\u001b[1;32m    632\u001b[0m         \u001b[0;31m# request was successfully received, understood, and accepted.\u001b[0m\u001b[0;34m\u001b[0m\u001b[0;34m\u001b[0m\u001b[0m\n\u001b[1;32m    633\u001b[0m         \u001b[0;32mif\u001b[0m \u001b[0;32mnot\u001b[0m \u001b[0;34m(\u001b[0m\u001b[0;36m200\u001b[0m \u001b[0;34m<=\u001b[0m \u001b[0mcode\u001b[0m \u001b[0;34m<\u001b[0m \u001b[0;36m300\u001b[0m\u001b[0;34m)\u001b[0m\u001b[0;34m:\u001b[0m\u001b[0;34m\u001b[0m\u001b[0;34m\u001b[0m\u001b[0m\n\u001b[0;32m--> 634\u001b[0;31m             response = self.parent.error(\n\u001b[0m\u001b[1;32m    635\u001b[0m                 'http', request, response, code, msg, hdrs)\n\u001b[1;32m    636\u001b[0m \u001b[0;34m\u001b[0m\u001b[0m\n",
            "\u001b[0;32m/usr/lib/python3.10/urllib/request.py\u001b[0m in \u001b[0;36merror\u001b[0;34m(self, proto, *args)\u001b[0m\n\u001b[1;32m    555\u001b[0m             \u001b[0mhttp_err\u001b[0m \u001b[0;34m=\u001b[0m \u001b[0;36m0\u001b[0m\u001b[0;34m\u001b[0m\u001b[0;34m\u001b[0m\u001b[0m\n\u001b[1;32m    556\u001b[0m         \u001b[0margs\u001b[0m \u001b[0;34m=\u001b[0m \u001b[0;34m(\u001b[0m\u001b[0mdict\u001b[0m\u001b[0;34m,\u001b[0m \u001b[0mproto\u001b[0m\u001b[0;34m,\u001b[0m \u001b[0mmeth_name\u001b[0m\u001b[0;34m)\u001b[0m \u001b[0;34m+\u001b[0m \u001b[0margs\u001b[0m\u001b[0;34m\u001b[0m\u001b[0;34m\u001b[0m\u001b[0m\n\u001b[0;32m--> 557\u001b[0;31m         \u001b[0mresult\u001b[0m \u001b[0;34m=\u001b[0m \u001b[0mself\u001b[0m\u001b[0;34m.\u001b[0m\u001b[0m_call_chain\u001b[0m\u001b[0;34m(\u001b[0m\u001b[0;34m*\u001b[0m\u001b[0margs\u001b[0m\u001b[0;34m)\u001b[0m\u001b[0;34m\u001b[0m\u001b[0;34m\u001b[0m\u001b[0m\n\u001b[0m\u001b[1;32m    558\u001b[0m         \u001b[0;32mif\u001b[0m \u001b[0mresult\u001b[0m\u001b[0;34m:\u001b[0m\u001b[0;34m\u001b[0m\u001b[0;34m\u001b[0m\u001b[0m\n\u001b[1;32m    559\u001b[0m             \u001b[0;32mreturn\u001b[0m \u001b[0mresult\u001b[0m\u001b[0;34m\u001b[0m\u001b[0;34m\u001b[0m\u001b[0m\n",
            "\u001b[0;32m/usr/lib/python3.10/urllib/request.py\u001b[0m in \u001b[0;36m_call_chain\u001b[0;34m(self, chain, kind, meth_name, *args)\u001b[0m\n\u001b[1;32m    494\u001b[0m         \u001b[0;32mfor\u001b[0m \u001b[0mhandler\u001b[0m \u001b[0;32min\u001b[0m \u001b[0mhandlers\u001b[0m\u001b[0;34m:\u001b[0m\u001b[0;34m\u001b[0m\u001b[0;34m\u001b[0m\u001b[0m\n\u001b[1;32m    495\u001b[0m             \u001b[0mfunc\u001b[0m \u001b[0;34m=\u001b[0m \u001b[0mgetattr\u001b[0m\u001b[0;34m(\u001b[0m\u001b[0mhandler\u001b[0m\u001b[0;34m,\u001b[0m \u001b[0mmeth_name\u001b[0m\u001b[0;34m)\u001b[0m\u001b[0;34m\u001b[0m\u001b[0;34m\u001b[0m\u001b[0m\n\u001b[0;32m--> 496\u001b[0;31m             \u001b[0mresult\u001b[0m \u001b[0;34m=\u001b[0m \u001b[0mfunc\u001b[0m\u001b[0;34m(\u001b[0m\u001b[0;34m*\u001b[0m\u001b[0margs\u001b[0m\u001b[0;34m)\u001b[0m\u001b[0;34m\u001b[0m\u001b[0;34m\u001b[0m\u001b[0m\n\u001b[0m\u001b[1;32m    497\u001b[0m             \u001b[0;32mif\u001b[0m \u001b[0mresult\u001b[0m \u001b[0;32mis\u001b[0m \u001b[0;32mnot\u001b[0m \u001b[0;32mNone\u001b[0m\u001b[0;34m:\u001b[0m\u001b[0;34m\u001b[0m\u001b[0;34m\u001b[0m\u001b[0m\n\u001b[1;32m    498\u001b[0m                 \u001b[0;32mreturn\u001b[0m \u001b[0mresult\u001b[0m\u001b[0;34m\u001b[0m\u001b[0;34m\u001b[0m\u001b[0m\n",
            "\u001b[0;32m/usr/lib/python3.10/urllib/request.py\u001b[0m in \u001b[0;36mhttp_error_302\u001b[0;34m(self, req, fp, code, msg, headers)\u001b[0m\n\u001b[1;32m    747\u001b[0m         \u001b[0mfp\u001b[0m\u001b[0;34m.\u001b[0m\u001b[0mclose\u001b[0m\u001b[0;34m(\u001b[0m\u001b[0;34m)\u001b[0m\u001b[0;34m\u001b[0m\u001b[0;34m\u001b[0m\u001b[0m\n\u001b[1;32m    748\u001b[0m \u001b[0;34m\u001b[0m\u001b[0m\n\u001b[0;32m--> 749\u001b[0;31m         \u001b[0;32mreturn\u001b[0m \u001b[0mself\u001b[0m\u001b[0;34m.\u001b[0m\u001b[0mparent\u001b[0m\u001b[0;34m.\u001b[0m\u001b[0mopen\u001b[0m\u001b[0;34m(\u001b[0m\u001b[0mnew\u001b[0m\u001b[0;34m,\u001b[0m \u001b[0mtimeout\u001b[0m\u001b[0;34m=\u001b[0m\u001b[0mreq\u001b[0m\u001b[0;34m.\u001b[0m\u001b[0mtimeout\u001b[0m\u001b[0;34m)\u001b[0m\u001b[0;34m\u001b[0m\u001b[0;34m\u001b[0m\u001b[0m\n\u001b[0m\u001b[1;32m    750\u001b[0m \u001b[0;34m\u001b[0m\u001b[0m\n\u001b[1;32m    751\u001b[0m     \u001b[0mhttp_error_301\u001b[0m \u001b[0;34m=\u001b[0m \u001b[0mhttp_error_303\u001b[0m \u001b[0;34m=\u001b[0m \u001b[0mhttp_error_307\u001b[0m \u001b[0;34m=\u001b[0m \u001b[0mhttp_error_302\u001b[0m\u001b[0;34m\u001b[0m\u001b[0;34m\u001b[0m\u001b[0m\n",
            "\u001b[0;32m/usr/lib/python3.10/urllib/request.py\u001b[0m in \u001b[0;36mopen\u001b[0;34m(self, fullurl, data, timeout)\u001b[0m\n\u001b[1;32m    523\u001b[0m         \u001b[0;32mfor\u001b[0m \u001b[0mprocessor\u001b[0m \u001b[0;32min\u001b[0m \u001b[0mself\u001b[0m\u001b[0;34m.\u001b[0m\u001b[0mprocess_response\u001b[0m\u001b[0;34m.\u001b[0m\u001b[0mget\u001b[0m\u001b[0;34m(\u001b[0m\u001b[0mprotocol\u001b[0m\u001b[0;34m,\u001b[0m \u001b[0;34m[\u001b[0m\u001b[0;34m]\u001b[0m\u001b[0;34m)\u001b[0m\u001b[0;34m:\u001b[0m\u001b[0;34m\u001b[0m\u001b[0;34m\u001b[0m\u001b[0m\n\u001b[1;32m    524\u001b[0m             \u001b[0mmeth\u001b[0m \u001b[0;34m=\u001b[0m \u001b[0mgetattr\u001b[0m\u001b[0;34m(\u001b[0m\u001b[0mprocessor\u001b[0m\u001b[0;34m,\u001b[0m \u001b[0mmeth_name\u001b[0m\u001b[0;34m)\u001b[0m\u001b[0;34m\u001b[0m\u001b[0;34m\u001b[0m\u001b[0m\n\u001b[0;32m--> 525\u001b[0;31m             \u001b[0mresponse\u001b[0m \u001b[0;34m=\u001b[0m \u001b[0mmeth\u001b[0m\u001b[0;34m(\u001b[0m\u001b[0mreq\u001b[0m\u001b[0;34m,\u001b[0m \u001b[0mresponse\u001b[0m\u001b[0;34m)\u001b[0m\u001b[0;34m\u001b[0m\u001b[0;34m\u001b[0m\u001b[0m\n\u001b[0m\u001b[1;32m    526\u001b[0m \u001b[0;34m\u001b[0m\u001b[0m\n\u001b[1;32m    527\u001b[0m         \u001b[0;32mreturn\u001b[0m \u001b[0mresponse\u001b[0m\u001b[0;34m\u001b[0m\u001b[0;34m\u001b[0m\u001b[0m\n",
            "\u001b[0;32m/usr/lib/python3.10/urllib/request.py\u001b[0m in \u001b[0;36mhttp_response\u001b[0;34m(self, request, response)\u001b[0m\n\u001b[1;32m    632\u001b[0m         \u001b[0;31m# request was successfully received, understood, and accepted.\u001b[0m\u001b[0;34m\u001b[0m\u001b[0;34m\u001b[0m\u001b[0m\n\u001b[1;32m    633\u001b[0m         \u001b[0;32mif\u001b[0m \u001b[0;32mnot\u001b[0m \u001b[0;34m(\u001b[0m\u001b[0;36m200\u001b[0m \u001b[0;34m<=\u001b[0m \u001b[0mcode\u001b[0m \u001b[0;34m<\u001b[0m \u001b[0;36m300\u001b[0m\u001b[0;34m)\u001b[0m\u001b[0;34m:\u001b[0m\u001b[0;34m\u001b[0m\u001b[0;34m\u001b[0m\u001b[0m\n\u001b[0;32m--> 634\u001b[0;31m             response = self.parent.error(\n\u001b[0m\u001b[1;32m    635\u001b[0m                 'http', request, response, code, msg, hdrs)\n\u001b[1;32m    636\u001b[0m \u001b[0;34m\u001b[0m\u001b[0m\n",
            "\u001b[0;32m/usr/lib/python3.10/urllib/request.py\u001b[0m in \u001b[0;36merror\u001b[0;34m(self, proto, *args)\u001b[0m\n\u001b[1;32m    561\u001b[0m         \u001b[0;32mif\u001b[0m \u001b[0mhttp_err\u001b[0m\u001b[0;34m:\u001b[0m\u001b[0;34m\u001b[0m\u001b[0;34m\u001b[0m\u001b[0m\n\u001b[1;32m    562\u001b[0m             \u001b[0margs\u001b[0m \u001b[0;34m=\u001b[0m \u001b[0;34m(\u001b[0m\u001b[0mdict\u001b[0m\u001b[0;34m,\u001b[0m \u001b[0;34m'default'\u001b[0m\u001b[0;34m,\u001b[0m \u001b[0;34m'http_error_default'\u001b[0m\u001b[0;34m)\u001b[0m \u001b[0;34m+\u001b[0m \u001b[0morig_args\u001b[0m\u001b[0;34m\u001b[0m\u001b[0;34m\u001b[0m\u001b[0m\n\u001b[0;32m--> 563\u001b[0;31m             \u001b[0;32mreturn\u001b[0m \u001b[0mself\u001b[0m\u001b[0;34m.\u001b[0m\u001b[0m_call_chain\u001b[0m\u001b[0;34m(\u001b[0m\u001b[0;34m*\u001b[0m\u001b[0margs\u001b[0m\u001b[0;34m)\u001b[0m\u001b[0;34m\u001b[0m\u001b[0;34m\u001b[0m\u001b[0m\n\u001b[0m\u001b[1;32m    564\u001b[0m \u001b[0;34m\u001b[0m\u001b[0m\n\u001b[1;32m    565\u001b[0m \u001b[0;31m# XXX probably also want an abstract factory that knows when it makes\u001b[0m\u001b[0;34m\u001b[0m\u001b[0;34m\u001b[0m\u001b[0m\n",
            "\u001b[0;32m/usr/lib/python3.10/urllib/request.py\u001b[0m in \u001b[0;36m_call_chain\u001b[0;34m(self, chain, kind, meth_name, *args)\u001b[0m\n\u001b[1;32m    494\u001b[0m         \u001b[0;32mfor\u001b[0m \u001b[0mhandler\u001b[0m \u001b[0;32min\u001b[0m \u001b[0mhandlers\u001b[0m\u001b[0;34m:\u001b[0m\u001b[0;34m\u001b[0m\u001b[0;34m\u001b[0m\u001b[0m\n\u001b[1;32m    495\u001b[0m             \u001b[0mfunc\u001b[0m \u001b[0;34m=\u001b[0m \u001b[0mgetattr\u001b[0m\u001b[0;34m(\u001b[0m\u001b[0mhandler\u001b[0m\u001b[0;34m,\u001b[0m \u001b[0mmeth_name\u001b[0m\u001b[0;34m)\u001b[0m\u001b[0;34m\u001b[0m\u001b[0;34m\u001b[0m\u001b[0m\n\u001b[0;32m--> 496\u001b[0;31m             \u001b[0mresult\u001b[0m \u001b[0;34m=\u001b[0m \u001b[0mfunc\u001b[0m\u001b[0;34m(\u001b[0m\u001b[0;34m*\u001b[0m\u001b[0margs\u001b[0m\u001b[0;34m)\u001b[0m\u001b[0;34m\u001b[0m\u001b[0;34m\u001b[0m\u001b[0m\n\u001b[0m\u001b[1;32m    497\u001b[0m             \u001b[0;32mif\u001b[0m \u001b[0mresult\u001b[0m \u001b[0;32mis\u001b[0m \u001b[0;32mnot\u001b[0m \u001b[0;32mNone\u001b[0m\u001b[0;34m:\u001b[0m\u001b[0;34m\u001b[0m\u001b[0;34m\u001b[0m\u001b[0m\n\u001b[1;32m    498\u001b[0m                 \u001b[0;32mreturn\u001b[0m \u001b[0mresult\u001b[0m\u001b[0;34m\u001b[0m\u001b[0;34m\u001b[0m\u001b[0m\n",
            "\u001b[0;32m/usr/lib/python3.10/urllib/request.py\u001b[0m in \u001b[0;36mhttp_error_default\u001b[0;34m(self, req, fp, code, msg, hdrs)\u001b[0m\n\u001b[1;32m    641\u001b[0m \u001b[0;32mclass\u001b[0m \u001b[0mHTTPDefaultErrorHandler\u001b[0m\u001b[0;34m(\u001b[0m\u001b[0mBaseHandler\u001b[0m\u001b[0;34m)\u001b[0m\u001b[0;34m:\u001b[0m\u001b[0;34m\u001b[0m\u001b[0;34m\u001b[0m\u001b[0m\n\u001b[1;32m    642\u001b[0m     \u001b[0;32mdef\u001b[0m \u001b[0mhttp_error_default\u001b[0m\u001b[0;34m(\u001b[0m\u001b[0mself\u001b[0m\u001b[0;34m,\u001b[0m \u001b[0mreq\u001b[0m\u001b[0;34m,\u001b[0m \u001b[0mfp\u001b[0m\u001b[0;34m,\u001b[0m \u001b[0mcode\u001b[0m\u001b[0;34m,\u001b[0m \u001b[0mmsg\u001b[0m\u001b[0;34m,\u001b[0m \u001b[0mhdrs\u001b[0m\u001b[0;34m)\u001b[0m\u001b[0;34m:\u001b[0m\u001b[0;34m\u001b[0m\u001b[0;34m\u001b[0m\u001b[0m\n\u001b[0;32m--> 643\u001b[0;31m         \u001b[0;32mraise\u001b[0m \u001b[0mHTTPError\u001b[0m\u001b[0;34m(\u001b[0m\u001b[0mreq\u001b[0m\u001b[0;34m.\u001b[0m\u001b[0mfull_url\u001b[0m\u001b[0;34m,\u001b[0m \u001b[0mcode\u001b[0m\u001b[0;34m,\u001b[0m \u001b[0mmsg\u001b[0m\u001b[0;34m,\u001b[0m \u001b[0mhdrs\u001b[0m\u001b[0;34m,\u001b[0m \u001b[0mfp\u001b[0m\u001b[0;34m)\u001b[0m\u001b[0;34m\u001b[0m\u001b[0;34m\u001b[0m\u001b[0m\n\u001b[0m\u001b[1;32m    644\u001b[0m \u001b[0;34m\u001b[0m\u001b[0m\n\u001b[1;32m    645\u001b[0m \u001b[0;32mclass\u001b[0m \u001b[0mHTTPRedirectHandler\u001b[0m\u001b[0;34m(\u001b[0m\u001b[0mBaseHandler\u001b[0m\u001b[0;34m)\u001b[0m\u001b[0;34m:\u001b[0m\u001b[0;34m\u001b[0m\u001b[0;34m\u001b[0m\u001b[0m\n",
            "\u001b[0;31mHTTPError\u001b[0m: HTTP Error 404: Not Found"
          ]
        }
      ],
      "source": [
        "import torch\n",
        "from torch.utils.data import DataLoader\n",
        "\n",
        "# Hyperparameters - sane default values for this example\n",
        "EPOCHS = 3 # epoch\n",
        "LR = 0.1 # learning rate\n",
        "BATCH_SIZE = 64 # batch size for training\n",
        "\n",
        "device = torch.device(\"cuda\" if torch.cuda.is_available() else \"cpu\")\n",
        "torch.manual_seed(42) # for reproducible results\n",
        "\n",
        "model = MyTextClassifier(vocab_size=len(vocab), embed_dim=50, hidden_dim=50, num_class=4)\n",
        "\n",
        "# TODO: load pretrained word embeddings and use them to init the model's embedding layer\n",
        "glove = torchtext.vocab.GloVe(name='6B', dim=50)\n",
        "\n",
        "for token, idx in vocab.stoi.items():\n",
        "    if token in glove.stoi:\n",
        "        model.embedding.weight.data[idx] = glove.vectors[glove.stoi[token]]\n",
        "\n",
        "model = model.to(device) # Move model to GPU if necessary\n",
        "\n",
        "criterion = torch.nn.CrossEntropyLoss() # this combines softmax with the actual loss function\n",
        "optimizer = torch.optim.SGD(model.parameters(), lr=LR)\n",
        "\n",
        "collator = lambda batch: collate_fn(batch, tokenizer, vocab, device)\n",
        "\n",
        "train_dataloader = DataLoader(train_split, batch_size=BATCH_SIZE,\n",
        "                              shuffle=True, collate_fn=collator)\n",
        "dev_dataloader = DataLoader(dev_split, batch_size=BATCH_SIZE,\n",
        "                              shuffle=False, collate_fn=collator)\n",
        "\n",
        "\n",
        "for epoch in range(1, EPOCHS + 1):\n",
        "    epoch_start_time = time.time()\n",
        "    train(model, train_dataloader, optimizer, criterion, epoch)\n",
        "    accu_val = evaluate(model, dev_dataloader, criterion)\n",
        "    print('-' * 59)\n",
        "    print(f'| end of epoch {epoch:3d} | time: {time.time() - epoch_start_time:5.2f}s | ' +\n",
        "          f'dev set accuracy {accu_val:8.3f} ')\n",
        "    print('-' * 59)"
      ]
    },
    {
      "cell_type": "markdown",
      "metadata": {
        "id": "y3ed0ScnbSoR"
      },
      "source": [
        "## Neural Network Tuning Guide"
      ]
    },
    {
      "cell_type": "markdown",
      "metadata": {
        "id": "wryjR70BbZUN"
      },
      "source": [
        "We improve the performance of our neural networks by tuning **hyperparameters**. These are all things that influence the networks performance except for the neural netwroks weights (parameters), which are tuned during training. Hyperparameters include:\n",
        "- The learning rate\n",
        "- The number of training epochs\n",
        "- The choice for optimizer (SGD, Adam, ...)\n",
        "- The batch size\n",
        "- Network architecture\n",
        "  - The number of layers in the network (more layers -> deeper network)\n",
        "  - The \"width\" of layers in the network (more neurons per layer -> wider network)\n",
        "  - Activation functions\n",
        "- Regularization\n",
        "  - L2-Regularization\n",
        "  - Data augmentation (especially for images!)\n",
        "  - Dropout (randomly dropping neurons during training)\n",
        "  - Small batch sizes\n",
        "- Normalizing the input data to unit Gaussian range (`transforms.Normalize(0.5, 0.5)`, applies mostly for images)\n",
        "- Adding normalization layers (`BatchNorm`, `LayerNorm`) to the network\n",
        "- Adding a learning rate schedule\n",
        "- ... (many more)"
      ]
    },
    {
      "cell_type": "markdown",
      "metadata": {
        "id": "2CKBu6ducPte"
      },
      "source": [
        "This can seem overwhelming and a bit like \"alchemy\" (and there is some truth to this). But over time, you will reliably build an intuition about what hyperparameters are responsible for what kinds of behavior and which hyperparameters might be responsible for failure modes.\n",
        "\n",
        "**Basic wisdom**: You can start by training the model as long as the training loss still improves. Then, check if the loss and performance on the dev set is also still improving. If yes --> train longer / with higher learning rate, make network bigger. If no --> train shorter / with lower learning rate, add regularization. Big changes over small changes: e.g.rather than just training for one more epoch, train twice as long, then iterate and finetune later on."
      ]
    },
    {
      "cell_type": "markdown",
      "metadata": {
        "id": "mmP2CAPfdBN8"
      },
      "source": [
        "Some (humorful) resources are [this neural network training recipe](http://karpathy.github.io/2019/04/25/recipe/) by Andrej Karpathy, [this experience report](https://towardsdatascience.com/the-art-of-hyperparameter-tuning-in-deep-neural-nets-by-example-685cb5429a38) or [this practical advice video](https://www.youtube.com/watch?v=wKkcBPp3F1Y) by Andrew Ng."
      ]
    },
    {
      "cell_type": "markdown",
      "metadata": {
        "id": "pQJ8UXZMfQ2K"
      },
      "source": [
        "Some steps you can go through that might be worthwhile if you cannot decide:\n",
        "- make the network twice as wide\n",
        "- make the network twice as deep\n",
        "- use the `Adam` optimizer instead of `SGD` and tuning optimizer hyperparameters\n",
        "- train for twice as many epochs\n",
        "- always save a checkpoint of the best model during training"
      ]
    },
    {
      "cell_type": "markdown",
      "metadata": {
        "id": "Db2BXayagSh4"
      },
      "source": [
        "**Bonus**: Is the network overfitting or not? Compare the performance on the dev set with the performance on the train set. A common visualization is to plot train and dev losses, as well as accuracy, over the course of training. **Having a plot of loss on the train vs. dev split over time is key to diagnose training failure modes**."
      ]
    }
  ],
  "metadata": {
    "colab": {
      "gpuType": "T4",
      "provenance": []
    },
    "gpuClass": "standard",
    "kernelspec": {
      "display_name": "Python 3",
      "name": "python3"
    },
    "language_info": {
      "name": "python"
    }
  },
  "nbformat": 4,
  "nbformat_minor": 0
}
